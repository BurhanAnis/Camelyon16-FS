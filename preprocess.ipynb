{
 "cells": [
  {
   "cell_type": "code",
   "execution_count": 4,
   "metadata": {},
   "outputs": [],
   "source": [
    "import openslide\n",
    "import numpy as np\n",
    "import cv2\n",
    "from dotenv import load_dotenv\n",
    "import matplotlib.pyplot as plt\n",
    "from wsi_prep import get_tiles, get_tissue_mask\n",
    "import os\n",
    "from tqdm import tqdm"
   ]
  },
  {
   "cell_type": "code",
   "execution_count": 5,
   "metadata": {},
   "outputs": [
    {
     "data": {
      "text/plain": [
       "True"
      ]
     },
     "execution_count": 5,
     "metadata": {},
     "output_type": "execute_result"
    }
   ],
   "source": [
    "load_dotenv()"
   ]
  },
  {
   "cell_type": "code",
   "execution_count": 6,
   "metadata": {},
   "outputs": [],
   "source": [
    "def get_list_of_paths(dir):\n",
    "    paths = []\n",
    "    for path in os.listdir(dir):\n",
    "        if path != \".DS_Store\" and os.path.isfile(os.path.join(dir, path)):\n",
    "            paths.append(dir+ '/' + path)\n",
    "    return paths "
   ]
  },
  {
   "cell_type": "code",
   "execution_count": 7,
   "metadata": {},
   "outputs": [],
   "source": [
    "tumor_paths = get_list_of_paths(os.getenv('POS_PATHS'))\n",
    "tumor_masks = get_list_of_paths(os.getenv('POS_ANNS'))\n",
    "neg_paths = get_list_of_paths(os.getenv('NEG_PATHS'))\n",
    "test_paths = get_list_of_paths(os.getenv('TEST_PATHS'))"
   ]
  },
  {
   "cell_type": "code",
   "execution_count": 8,
   "metadata": {},
   "outputs": [],
   "source": [
    "from tqdm import tqdm\n",
    "def tile_images(slide_paths, level, patch_size_level0):\n",
    "    tile_coords = []\n",
    "    for path in tqdm(slide_paths, desc = 'Processing Tiles'):\n",
    "        tissue_mask = tissue_mask = get_tissue_mask(path, level, plot = False)\n",
    "        tile_coords.append(get_tiles(path, tissue_mask, level, patch_size_level0, plot = False))\n",
    "    return tile_coords"
   ]
  },
  {
   "cell_type": "code",
   "execution_count": 11,
   "metadata": {},
   "outputs": [
    {
     "name": "stderr",
     "output_type": "stream",
     "text": [
      "Processing Tiles: 100%|██████████| 159/159 [02:39<00:00,  1.01s/it]\n",
      "Processing Tiles: 100%|██████████| 111/111 [01:54<00:00,  1.03s/it]\n",
      "Processing Tiles: 100%|██████████| 129/129 [02:01<00:00,  1.06it/s]\n"
     ]
    }
   ],
   "source": [
    "level = 6\n",
    "patch_size = 299\n",
    "tile_coords_neg = tile_images(neg_paths, level, patch_size)\n",
    "tile_coords_pos = tile_images(tumor_paths, level, patch_size)\n",
    "tile_coords_test = tile_images(test_paths, level, patch_size)"
   ]
  },
  {
   "cell_type": "code",
   "execution_count": 12,
   "metadata": {},
   "outputs": [],
   "source": [
    "from utils import save_data\n",
    "save_data('data/tile_coords_neg.pkl', tile_coords_neg)\n",
    "save_data('data/tile_coords_pos.pkl', tile_coords_pos)\n",
    "save_data('data/tile_coords_test.pkl', tile_coords_test)"
   ]
  },
  {
   "cell_type": "code",
   "execution_count": null,
   "metadata": {},
   "outputs": [],
   "source": []
  }
 ],
 "metadata": {
  "kernelspec": {
   "display_name": ".venv",
   "language": "python",
   "name": "python3"
  },
  "language_info": {
   "codemirror_mode": {
    "name": "ipython",
    "version": 3
   },
   "file_extension": ".py",
   "mimetype": "text/x-python",
   "name": "python",
   "nbconvert_exporter": "python",
   "pygments_lexer": "ipython3",
   "version": "3.11.9"
  }
 },
 "nbformat": 4,
 "nbformat_minor": 2
}
